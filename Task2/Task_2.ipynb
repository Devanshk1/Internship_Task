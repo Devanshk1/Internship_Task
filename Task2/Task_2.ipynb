{
 "cells": [
  {
   "cell_type": "code",
   "execution_count": 105,
   "metadata": {},
   "outputs": [],
   "source": [
    "# Exploratory Data Analysis\n"
   ]
  },
  {
   "cell_type": "code",
   "execution_count": 106,
   "metadata": {},
   "outputs": [],
   "source": [
    "import pandas as pd\n",
    "import numpy as np\n",
    "import seaborn as sns #visualisation\n",
    "import matplotlib.pyplot as plt #visualisation\n",
    "%matplotlib inline \n",
    "sns.set(color_codes=True)"
   ]
  },
  {
   "cell_type": "code",
   "execution_count": 107,
   "metadata": {},
   "outputs": [],
   "source": [
    "# Loading the data into the pandas data frame"
   ]
  },
  {
   "cell_type": "code",
   "execution_count": 108,
   "metadata": {},
   "outputs": [],
   "source": [
    "df = pd.read_csv(\"data.csv\")\n"
   ]
  },
  {
   "cell_type": "code",
   "execution_count": 109,
   "metadata": {},
   "outputs": [],
   "source": [
    "# # To display the top 5 rows\n"
   ]
  },
  {
   "cell_type": "code",
   "execution_count": 110,
   "metadata": {},
   "outputs": [
    {
     "data": {
      "text/html": [
       "<div>\n",
       "<style scoped>\n",
       "    .dataframe tbody tr th:only-of-type {\n",
       "        vertical-align: middle;\n",
       "    }\n",
       "\n",
       "    .dataframe tbody tr th {\n",
       "        vertical-align: top;\n",
       "    }\n",
       "\n",
       "    .dataframe thead th {\n",
       "        text-align: right;\n",
       "    }\n",
       "</style>\n",
       "<table border=\"1\" class=\"dataframe\">\n",
       "  <thead>\n",
       "    <tr style=\"text-align: right;\">\n",
       "      <th></th>\n",
       "      <th>title</th>\n",
       "      <th>score</th>\n",
       "      <th>id</th>\n",
       "      <th>url</th>\n",
       "      <th>comms_num</th>\n",
       "      <th>created</th>\n",
       "      <th>body</th>\n",
       "      <th>timestamp</th>\n",
       "    </tr>\n",
       "  </thead>\n",
       "  <tbody>\n",
       "    <tr>\n",
       "      <th>0</th>\n",
       "      <td>Will donate thrice the number of upvotes (amou...</td>\n",
       "      <td>19708</td>\n",
       "      <td>981o7s</td>\n",
       "      <td>https://www.reddit.com/r/india/comments/981o7s...</td>\n",
       "      <td>836</td>\n",
       "      <td>1.534536e+09</td>\n",
       "      <td>&gt;**Note**: If you want to know what this is al...</td>\n",
       "      <td>2018-08-18 01:32:17</td>\n",
       "    </tr>\n",
       "    <tr>\n",
       "      <th>1</th>\n",
       "      <td>Indian reply to NYtimes cartoon on Paris clima...</td>\n",
       "      <td>18236</td>\n",
       "      <td>6f10op</td>\n",
       "      <td>http://imgur.com/a/U48v9</td>\n",
       "      <td>1492</td>\n",
       "      <td>1.496523e+09</td>\n",
       "      <td>NaN</td>\n",
       "      <td>2017-06-04 02:17:25</td>\n",
       "    </tr>\n",
       "    <tr>\n",
       "      <th>2</th>\n",
       "      <td>The essence of the Indian soap opera, distille...</td>\n",
       "      <td>18202</td>\n",
       "      <td>8pymkp</td>\n",
       "      <td>https://gfycat.com/DigitalSparseAkitainu</td>\n",
       "      <td>949</td>\n",
       "      <td>1.528635e+09</td>\n",
       "      <td>NaN</td>\n",
       "      <td>2018-06-10 18:16:29</td>\n",
       "    </tr>\n",
       "    <tr>\n",
       "      <th>3</th>\n",
       "      <td>Fuck all Religion</td>\n",
       "      <td>17832</td>\n",
       "      <td>f9outu</td>\n",
       "      <td>https://www.reddit.com/r/india/comments/f9outu...</td>\n",
       "      <td>4206</td>\n",
       "      <td>1.582726e+09</td>\n",
       "      <td>Fuck all religion. Fuck Hindusim, fuck Islam, ...</td>\n",
       "      <td>2020-02-26 19:40:49</td>\n",
       "    </tr>\n",
       "    <tr>\n",
       "      <th>4</th>\n",
       "      <td>German exchange Student at IIT Madras is being...</td>\n",
       "      <td>11692</td>\n",
       "      <td>eev8g5</td>\n",
       "      <td>https://i.redd.it/j816l4c40i641.jpg</td>\n",
       "      <td>501</td>\n",
       "      <td>1.577186e+09</td>\n",
       "      <td>NaN</td>\n",
       "      <td>2019-12-24 16:40:46</td>\n",
       "    </tr>\n",
       "  </tbody>\n",
       "</table>\n",
       "</div>"
      ],
      "text/plain": [
       "                                               title  score      id  \\\n",
       "0  Will donate thrice the number of upvotes (amou...  19708  981o7s   \n",
       "1  Indian reply to NYtimes cartoon on Paris clima...  18236  6f10op   \n",
       "2  The essence of the Indian soap opera, distille...  18202  8pymkp   \n",
       "3                                  Fuck all Religion  17832  f9outu   \n",
       "4  German exchange Student at IIT Madras is being...  11692  eev8g5   \n",
       "\n",
       "                                                 url  comms_num       created  \\\n",
       "0  https://www.reddit.com/r/india/comments/981o7s...        836  1.534536e+09   \n",
       "1                           http://imgur.com/a/U48v9       1492  1.496523e+09   \n",
       "2           https://gfycat.com/DigitalSparseAkitainu        949  1.528635e+09   \n",
       "3  https://www.reddit.com/r/india/comments/f9outu...       4206  1.582726e+09   \n",
       "4                https://i.redd.it/j816l4c40i641.jpg        501  1.577186e+09   \n",
       "\n",
       "                                                body            timestamp  \n",
       "0  >**Note**: If you want to know what this is al...  2018-08-18 01:32:17  \n",
       "1                                                NaN  2017-06-04 02:17:25  \n",
       "2                                                NaN  2018-06-10 18:16:29  \n",
       "3  Fuck all religion. Fuck Hindusim, fuck Islam, ...  2020-02-26 19:40:49  \n",
       "4                                                NaN  2019-12-24 16:40:46  "
      ]
     },
     "execution_count": 110,
     "metadata": {},
     "output_type": "execute_result"
    }
   ],
   "source": [
    "df.head(5)"
   ]
  },
  {
   "cell_type": "code",
   "execution_count": 111,
   "metadata": {},
   "outputs": [],
   "source": [
    "# To display the bottom 5 rows\n"
   ]
  },
  {
   "cell_type": "code",
   "execution_count": 112,
   "metadata": {},
   "outputs": [
    {
     "data": {
      "text/html": [
       "<div>\n",
       "<style scoped>\n",
       "    .dataframe tbody tr th:only-of-type {\n",
       "        vertical-align: middle;\n",
       "    }\n",
       "\n",
       "    .dataframe tbody tr th {\n",
       "        vertical-align: top;\n",
       "    }\n",
       "\n",
       "    .dataframe thead th {\n",
       "        text-align: right;\n",
       "    }\n",
       "</style>\n",
       "<table border=\"1\" class=\"dataframe\">\n",
       "  <thead>\n",
       "    <tr style=\"text-align: right;\">\n",
       "      <th></th>\n",
       "      <th>title</th>\n",
       "      <th>score</th>\n",
       "      <th>id</th>\n",
       "      <th>url</th>\n",
       "      <th>comms_num</th>\n",
       "      <th>created</th>\n",
       "      <th>body</th>\n",
       "      <th>timestamp</th>\n",
       "    </tr>\n",
       "  </thead>\n",
       "  <tbody>\n",
       "    <tr>\n",
       "      <th>495</th>\n",
       "      <td>EXCLUSIVE: Documents Show Modi Govt Building 3...</td>\n",
       "      <td>2071</td>\n",
       "      <td>fjx9ih</td>\n",
       "      <td>https://www.huffingtonpost.in/entry/aadhaar-na...</td>\n",
       "      <td>314</td>\n",
       "      <td>1.584440e+09</td>\n",
       "      <td>NaN</td>\n",
       "      <td>2020-03-17 15:46:04</td>\n",
       "    </tr>\n",
       "    <tr>\n",
       "      <th>496</th>\n",
       "      <td>Hmm</td>\n",
       "      <td>2073</td>\n",
       "      <td>76xg45</td>\n",
       "      <td>https://i.imgur.com/c5yYiSK.jpg</td>\n",
       "      <td>109</td>\n",
       "      <td>1.508262e+09</td>\n",
       "      <td>NaN</td>\n",
       "      <td>2017-10-17 23:04:21</td>\n",
       "    </tr>\n",
       "    <tr>\n",
       "      <th>497</th>\n",
       "      <td>87 years ago today, Shaheed Bhagat Singh was e...</td>\n",
       "      <td>2066</td>\n",
       "      <td>86h70i</td>\n",
       "      <td>https://imgur.com/sbxpbW4</td>\n",
       "      <td>224</td>\n",
       "      <td>1.521800e+09</td>\n",
       "      <td>NaN</td>\n",
       "      <td>2018-03-23 15:37:34</td>\n",
       "    </tr>\n",
       "    <tr>\n",
       "      <th>498</th>\n",
       "      <td>#Breaking | A 16-year-old girl commits suicide...</td>\n",
       "      <td>2074</td>\n",
       "      <td>e7pnfi</td>\n",
       "      <td>https://twitter.com/TimesNow/status/1203505596...</td>\n",
       "      <td>162</td>\n",
       "      <td>1.575810e+09</td>\n",
       "      <td>NaN</td>\n",
       "      <td>2019-12-08 18:37:05</td>\n",
       "    </tr>\n",
       "    <tr>\n",
       "      <th>499</th>\n",
       "      <td>[Meme] Every Indian childhood ever.</td>\n",
       "      <td>2073</td>\n",
       "      <td>akmon8</td>\n",
       "      <td>https://i.redd.it/br5pu9hvi5d21.png</td>\n",
       "      <td>91</td>\n",
       "      <td>1.548705e+09</td>\n",
       "      <td>NaN</td>\n",
       "      <td>2019-01-29 01:15:53</td>\n",
       "    </tr>\n",
       "  </tbody>\n",
       "</table>\n",
       "</div>"
      ],
      "text/plain": [
       "                                                 title  score      id  \\\n",
       "495  EXCLUSIVE: Documents Show Modi Govt Building 3...   2071  fjx9ih   \n",
       "496                                                Hmm   2073  76xg45   \n",
       "497  87 years ago today, Shaheed Bhagat Singh was e...   2066  86h70i   \n",
       "498  #Breaking | A 16-year-old girl commits suicide...   2074  e7pnfi   \n",
       "499                [Meme] Every Indian childhood ever.   2073  akmon8   \n",
       "\n",
       "                                                   url  comms_num  \\\n",
       "495  https://www.huffingtonpost.in/entry/aadhaar-na...        314   \n",
       "496                    https://i.imgur.com/c5yYiSK.jpg        109   \n",
       "497                          https://imgur.com/sbxpbW4        224   \n",
       "498  https://twitter.com/TimesNow/status/1203505596...        162   \n",
       "499                https://i.redd.it/br5pu9hvi5d21.png         91   \n",
       "\n",
       "          created body            timestamp  \n",
       "495  1.584440e+09  NaN  2020-03-17 15:46:04  \n",
       "496  1.508262e+09  NaN  2017-10-17 23:04:21  \n",
       "497  1.521800e+09  NaN  2018-03-23 15:37:34  \n",
       "498  1.575810e+09  NaN  2019-12-08 18:37:05  \n",
       "499  1.548705e+09  NaN  2019-01-29 01:15:53  "
      ]
     },
     "execution_count": 112,
     "metadata": {},
     "output_type": "execute_result"
    }
   ],
   "source": [
    "df.tail(5)"
   ]
  },
  {
   "cell_type": "code",
   "execution_count": 94,
   "metadata": {},
   "outputs": [],
   "source": [
    "# Checking the data type\n"
   ]
  },
  {
   "cell_type": "code",
   "execution_count": 113,
   "metadata": {},
   "outputs": [
    {
     "data": {
      "text/plain": [
       "title         object\n",
       "score          int64\n",
       "id            object\n",
       "url           object\n",
       "comms_num      int64\n",
       "created      float64\n",
       "body          object\n",
       "timestamp     object\n",
       "dtype: object"
      ]
     },
     "execution_count": 113,
     "metadata": {},
     "output_type": "execute_result"
    }
   ],
   "source": [
    "df.dtypes"
   ]
  },
  {
   "cell_type": "code",
   "execution_count": 24,
   "metadata": {},
   "outputs": [],
   "source": [
    "# Dropping irrelevant columns"
   ]
  },
  {
   "cell_type": "code",
   "execution_count": 114,
   "metadata": {},
   "outputs": [
    {
     "data": {
      "text/html": [
       "<div>\n",
       "<style scoped>\n",
       "    .dataframe tbody tr th:only-of-type {\n",
       "        vertical-align: middle;\n",
       "    }\n",
       "\n",
       "    .dataframe tbody tr th {\n",
       "        vertical-align: top;\n",
       "    }\n",
       "\n",
       "    .dataframe thead th {\n",
       "        text-align: right;\n",
       "    }\n",
       "</style>\n",
       "<table border=\"1\" class=\"dataframe\">\n",
       "  <thead>\n",
       "    <tr style=\"text-align: right;\">\n",
       "      <th></th>\n",
       "      <th>title</th>\n",
       "      <th>score</th>\n",
       "      <th>id</th>\n",
       "      <th>comms_num</th>\n",
       "      <th>created</th>\n",
       "      <th>body</th>\n",
       "      <th>timestamp</th>\n",
       "    </tr>\n",
       "  </thead>\n",
       "  <tbody>\n",
       "    <tr>\n",
       "      <th>0</th>\n",
       "      <td>Will donate thrice the number of upvotes (amou...</td>\n",
       "      <td>19708</td>\n",
       "      <td>981o7s</td>\n",
       "      <td>836</td>\n",
       "      <td>1.534536e+09</td>\n",
       "      <td>&gt;**Note**: If you want to know what this is al...</td>\n",
       "      <td>2018-08-18 01:32:17</td>\n",
       "    </tr>\n",
       "    <tr>\n",
       "      <th>1</th>\n",
       "      <td>Indian reply to NYtimes cartoon on Paris clima...</td>\n",
       "      <td>18236</td>\n",
       "      <td>6f10op</td>\n",
       "      <td>1492</td>\n",
       "      <td>1.496523e+09</td>\n",
       "      <td>NaN</td>\n",
       "      <td>2017-06-04 02:17:25</td>\n",
       "    </tr>\n",
       "    <tr>\n",
       "      <th>2</th>\n",
       "      <td>The essence of the Indian soap opera, distille...</td>\n",
       "      <td>18202</td>\n",
       "      <td>8pymkp</td>\n",
       "      <td>949</td>\n",
       "      <td>1.528635e+09</td>\n",
       "      <td>NaN</td>\n",
       "      <td>2018-06-10 18:16:29</td>\n",
       "    </tr>\n",
       "    <tr>\n",
       "      <th>3</th>\n",
       "      <td>Fuck all Religion</td>\n",
       "      <td>17832</td>\n",
       "      <td>f9outu</td>\n",
       "      <td>4206</td>\n",
       "      <td>1.582726e+09</td>\n",
       "      <td>Fuck all religion. Fuck Hindusim, fuck Islam, ...</td>\n",
       "      <td>2020-02-26 19:40:49</td>\n",
       "    </tr>\n",
       "    <tr>\n",
       "      <th>4</th>\n",
       "      <td>German exchange Student at IIT Madras is being...</td>\n",
       "      <td>11692</td>\n",
       "      <td>eev8g5</td>\n",
       "      <td>501</td>\n",
       "      <td>1.577186e+09</td>\n",
       "      <td>NaN</td>\n",
       "      <td>2019-12-24 16:40:46</td>\n",
       "    </tr>\n",
       "  </tbody>\n",
       "</table>\n",
       "</div>"
      ],
      "text/plain": [
       "                                               title  score      id  \\\n",
       "0  Will donate thrice the number of upvotes (amou...  19708  981o7s   \n",
       "1  Indian reply to NYtimes cartoon on Paris clima...  18236  6f10op   \n",
       "2  The essence of the Indian soap opera, distille...  18202  8pymkp   \n",
       "3                                  Fuck all Religion  17832  f9outu   \n",
       "4  German exchange Student at IIT Madras is being...  11692  eev8g5   \n",
       "\n",
       "   comms_num       created                                               body  \\\n",
       "0        836  1.534536e+09  >**Note**: If you want to know what this is al...   \n",
       "1       1492  1.496523e+09                                                NaN   \n",
       "2        949  1.528635e+09                                                NaN   \n",
       "3       4206  1.582726e+09  Fuck all religion. Fuck Hindusim, fuck Islam, ...   \n",
       "4        501  1.577186e+09                                                NaN   \n",
       "\n",
       "             timestamp  \n",
       "0  2018-08-18 01:32:17  \n",
       "1  2017-06-04 02:17:25  \n",
       "2  2018-06-10 18:16:29  \n",
       "3  2020-02-26 19:40:49  \n",
       "4  2019-12-24 16:40:46  "
      ]
     },
     "execution_count": 114,
     "metadata": {},
     "output_type": "execute_result"
    }
   ],
   "source": [
    "df = df.drop(['url'], axis=1)\n",
    "df.head(5)"
   ]
  },
  {
   "cell_type": "code",
   "execution_count": null,
   "metadata": {},
   "outputs": [],
   "source": []
  },
  {
   "cell_type": "code",
   "execution_count": 115,
   "metadata": {},
   "outputs": [
    {
     "data": {
      "text/html": [
       "<div>\n",
       "<style scoped>\n",
       "    .dataframe tbody tr th:only-of-type {\n",
       "        vertical-align: middle;\n",
       "    }\n",
       "\n",
       "    .dataframe tbody tr th {\n",
       "        vertical-align: top;\n",
       "    }\n",
       "\n",
       "    .dataframe thead th {\n",
       "        text-align: right;\n",
       "    }\n",
       "</style>\n",
       "<table border=\"1\" class=\"dataframe\">\n",
       "  <thead>\n",
       "    <tr style=\"text-align: right;\">\n",
       "      <th></th>\n",
       "      <th>title</th>\n",
       "      <th>score</th>\n",
       "      <th>id</th>\n",
       "      <th>comms_num</th>\n",
       "      <th>created</th>\n",
       "      <th>body</th>\n",
       "      <th>timestamp</th>\n",
       "    </tr>\n",
       "  </thead>\n",
       "  <tbody>\n",
       "    <tr>\n",
       "      <th>0</th>\n",
       "      <td>Will donate thrice the number of upvotes (amou...</td>\n",
       "      <td>19708</td>\n",
       "      <td>981o7s</td>\n",
       "      <td>836</td>\n",
       "      <td>1.534536e+09</td>\n",
       "      <td>&gt;**Note**: If you want to know what this is al...</td>\n",
       "      <td>2018-08-18 01:32:17</td>\n",
       "    </tr>\n",
       "    <tr>\n",
       "      <th>1</th>\n",
       "      <td>Indian reply to NYtimes cartoon on Paris clima...</td>\n",
       "      <td>18236</td>\n",
       "      <td>6f10op</td>\n",
       "      <td>1492</td>\n",
       "      <td>1.496523e+09</td>\n",
       "      <td>NaN</td>\n",
       "      <td>2017-06-04 02:17:25</td>\n",
       "    </tr>\n",
       "    <tr>\n",
       "      <th>2</th>\n",
       "      <td>The essence of the Indian soap opera, distille...</td>\n",
       "      <td>18202</td>\n",
       "      <td>8pymkp</td>\n",
       "      <td>949</td>\n",
       "      <td>1.528635e+09</td>\n",
       "      <td>NaN</td>\n",
       "      <td>2018-06-10 18:16:29</td>\n",
       "    </tr>\n",
       "    <tr>\n",
       "      <th>3</th>\n",
       "      <td>Fuck all Religion</td>\n",
       "      <td>17832</td>\n",
       "      <td>f9outu</td>\n",
       "      <td>4206</td>\n",
       "      <td>1.582726e+09</td>\n",
       "      <td>Fuck all religion. Fuck Hindusim, fuck Islam, ...</td>\n",
       "      <td>2020-02-26 19:40:49</td>\n",
       "    </tr>\n",
       "    <tr>\n",
       "      <th>4</th>\n",
       "      <td>German exchange Student at IIT Madras is being...</td>\n",
       "      <td>11692</td>\n",
       "      <td>eev8g5</td>\n",
       "      <td>501</td>\n",
       "      <td>1.577186e+09</td>\n",
       "      <td>NaN</td>\n",
       "      <td>2019-12-24 16:40:46</td>\n",
       "    </tr>\n",
       "  </tbody>\n",
       "</table>\n",
       "</div>"
      ],
      "text/plain": [
       "                                               title  score      id  \\\n",
       "0  Will donate thrice the number of upvotes (amou...  19708  981o7s   \n",
       "1  Indian reply to NYtimes cartoon on Paris clima...  18236  6f10op   \n",
       "2  The essence of the Indian soap opera, distille...  18202  8pymkp   \n",
       "3                                  Fuck all Religion  17832  f9outu   \n",
       "4  German exchange Student at IIT Madras is being...  11692  eev8g5   \n",
       "\n",
       "   comms_num       created                                               body  \\\n",
       "0        836  1.534536e+09  >**Note**: If you want to know what this is al...   \n",
       "1       1492  1.496523e+09                                                NaN   \n",
       "2        949  1.528635e+09                                                NaN   \n",
       "3       4206  1.582726e+09  Fuck all religion. Fuck Hindusim, fuck Islam, ...   \n",
       "4        501  1.577186e+09                                                NaN   \n",
       "\n",
       "             timestamp  \n",
       "0  2018-08-18 01:32:17  \n",
       "1  2017-06-04 02:17:25  \n",
       "2  2018-06-10 18:16:29  \n",
       "3  2020-02-26 19:40:49  \n",
       "4  2019-12-24 16:40:46  "
      ]
     },
     "execution_count": 115,
     "metadata": {},
     "output_type": "execute_result"
    }
   ],
   "source": [
    "df.head(5)"
   ]
  },
  {
   "cell_type": "code",
   "execution_count": 116,
   "metadata": {},
   "outputs": [],
   "source": [
    "# Renaming the columns\n"
   ]
  },
  {
   "cell_type": "code",
   "execution_count": 117,
   "metadata": {},
   "outputs": [],
   "source": [
    "df = df.rename(columns={\"title\": \"Title\", \"score\": \"Score\", \"id\": \"ID\", \"timestamp\": \"Timestamp\"})"
   ]
  },
  {
   "cell_type": "code",
   "execution_count": 118,
   "metadata": {},
   "outputs": [
    {
     "data": {
      "text/html": [
       "<div>\n",
       "<style scoped>\n",
       "    .dataframe tbody tr th:only-of-type {\n",
       "        vertical-align: middle;\n",
       "    }\n",
       "\n",
       "    .dataframe tbody tr th {\n",
       "        vertical-align: top;\n",
       "    }\n",
       "\n",
       "    .dataframe thead th {\n",
       "        text-align: right;\n",
       "    }\n",
       "</style>\n",
       "<table border=\"1\" class=\"dataframe\">\n",
       "  <thead>\n",
       "    <tr style=\"text-align: right;\">\n",
       "      <th></th>\n",
       "      <th>Title</th>\n",
       "      <th>Score</th>\n",
       "      <th>ID</th>\n",
       "      <th>comms_num</th>\n",
       "      <th>created</th>\n",
       "      <th>body</th>\n",
       "      <th>Timestamp</th>\n",
       "    </tr>\n",
       "  </thead>\n",
       "  <tbody>\n",
       "    <tr>\n",
       "      <th>0</th>\n",
       "      <td>Will donate thrice the number of upvotes (amou...</td>\n",
       "      <td>19708</td>\n",
       "      <td>981o7s</td>\n",
       "      <td>836</td>\n",
       "      <td>1.534536e+09</td>\n",
       "      <td>&gt;**Note**: If you want to know what this is al...</td>\n",
       "      <td>2018-08-18 01:32:17</td>\n",
       "    </tr>\n",
       "    <tr>\n",
       "      <th>1</th>\n",
       "      <td>Indian reply to NYtimes cartoon on Paris clima...</td>\n",
       "      <td>18236</td>\n",
       "      <td>6f10op</td>\n",
       "      <td>1492</td>\n",
       "      <td>1.496523e+09</td>\n",
       "      <td>NaN</td>\n",
       "      <td>2017-06-04 02:17:25</td>\n",
       "    </tr>\n",
       "    <tr>\n",
       "      <th>2</th>\n",
       "      <td>The essence of the Indian soap opera, distille...</td>\n",
       "      <td>18202</td>\n",
       "      <td>8pymkp</td>\n",
       "      <td>949</td>\n",
       "      <td>1.528635e+09</td>\n",
       "      <td>NaN</td>\n",
       "      <td>2018-06-10 18:16:29</td>\n",
       "    </tr>\n",
       "    <tr>\n",
       "      <th>3</th>\n",
       "      <td>Fuck all Religion</td>\n",
       "      <td>17832</td>\n",
       "      <td>f9outu</td>\n",
       "      <td>4206</td>\n",
       "      <td>1.582726e+09</td>\n",
       "      <td>Fuck all religion. Fuck Hindusim, fuck Islam, ...</td>\n",
       "      <td>2020-02-26 19:40:49</td>\n",
       "    </tr>\n",
       "    <tr>\n",
       "      <th>4</th>\n",
       "      <td>German exchange Student at IIT Madras is being...</td>\n",
       "      <td>11692</td>\n",
       "      <td>eev8g5</td>\n",
       "      <td>501</td>\n",
       "      <td>1.577186e+09</td>\n",
       "      <td>NaN</td>\n",
       "      <td>2019-12-24 16:40:46</td>\n",
       "    </tr>\n",
       "  </tbody>\n",
       "</table>\n",
       "</div>"
      ],
      "text/plain": [
       "                                               Title  Score      ID  \\\n",
       "0  Will donate thrice the number of upvotes (amou...  19708  981o7s   \n",
       "1  Indian reply to NYtimes cartoon on Paris clima...  18236  6f10op   \n",
       "2  The essence of the Indian soap opera, distille...  18202  8pymkp   \n",
       "3                                  Fuck all Religion  17832  f9outu   \n",
       "4  German exchange Student at IIT Madras is being...  11692  eev8g5   \n",
       "\n",
       "   comms_num       created                                               body  \\\n",
       "0        836  1.534536e+09  >**Note**: If you want to know what this is al...   \n",
       "1       1492  1.496523e+09                                                NaN   \n",
       "2        949  1.528635e+09                                                NaN   \n",
       "3       4206  1.582726e+09  Fuck all religion. Fuck Hindusim, fuck Islam, ...   \n",
       "4        501  1.577186e+09                                                NaN   \n",
       "\n",
       "             Timestamp  \n",
       "0  2018-08-18 01:32:17  \n",
       "1  2017-06-04 02:17:25  \n",
       "2  2018-06-10 18:16:29  \n",
       "3  2020-02-26 19:40:49  \n",
       "4  2019-12-24 16:40:46  "
      ]
     },
     "execution_count": 118,
     "metadata": {},
     "output_type": "execute_result"
    }
   ],
   "source": [
    "df.head(5)"
   ]
  },
  {
   "cell_type": "code",
   "execution_count": 119,
   "metadata": {},
   "outputs": [],
   "source": [
    "# Total number of rows and columns"
   ]
  },
  {
   "cell_type": "code",
   "execution_count": 120,
   "metadata": {},
   "outputs": [
    {
     "data": {
      "text/plain": [
       "(500, 7)"
      ]
     },
     "execution_count": 120,
     "metadata": {},
     "output_type": "execute_result"
    }
   ],
   "source": [
    "df.shape"
   ]
  },
  {
   "cell_type": "code",
   "execution_count": 121,
   "metadata": {},
   "outputs": [],
   "source": [
    "# Rows containing duplicate data\n"
   ]
  },
  {
   "cell_type": "code",
   "execution_count": 122,
   "metadata": {},
   "outputs": [
    {
     "name": "stdout",
     "output_type": "stream",
     "text": [
      "number of duplicate rows:  (0, 7)\n"
     ]
    }
   ],
   "source": [
    "duplicate_rows_df = df[df.duplicated()]\n",
    "print(\"number of duplicate rows: \", duplicate_rows_df.shape)"
   ]
  },
  {
   "cell_type": "code",
   "execution_count": 123,
   "metadata": {},
   "outputs": [],
   "source": [
    "# Used to count the number of rows before removing the data\n"
   ]
  },
  {
   "cell_type": "code",
   "execution_count": 124,
   "metadata": {},
   "outputs": [
    {
     "data": {
      "text/plain": [
       "<bound method DataFrame.count of                                                  Title  Score      ID  \\\n",
       "0    Will donate thrice the number of upvotes (amou...  19708  981o7s   \n",
       "1    Indian reply to NYtimes cartoon on Paris clima...  18236  6f10op   \n",
       "2    The essence of the Indian soap opera, distille...  18202  8pymkp   \n",
       "3                                    Fuck all Religion  17832  f9outu   \n",
       "4    German exchange Student at IIT Madras is being...  11692  eev8g5   \n",
       "..                                                 ...    ...     ...   \n",
       "495  EXCLUSIVE: Documents Show Modi Govt Building 3...   2071  fjx9ih   \n",
       "496                                                Hmm   2073  76xg45   \n",
       "497  87 years ago today, Shaheed Bhagat Singh was e...   2066  86h70i   \n",
       "498  #Breaking | A 16-year-old girl commits suicide...   2074  e7pnfi   \n",
       "499                [Meme] Every Indian childhood ever.   2073  akmon8   \n",
       "\n",
       "     comms_num       created  \\\n",
       "0          836  1.534536e+09   \n",
       "1         1492  1.496523e+09   \n",
       "2          949  1.528635e+09   \n",
       "3         4206  1.582726e+09   \n",
       "4          501  1.577186e+09   \n",
       "..         ...           ...   \n",
       "495        314  1.584440e+09   \n",
       "496        109  1.508262e+09   \n",
       "497        224  1.521800e+09   \n",
       "498        162  1.575810e+09   \n",
       "499         91  1.548705e+09   \n",
       "\n",
       "                                                  body            Timestamp  \n",
       "0    >**Note**: If you want to know what this is al...  2018-08-18 01:32:17  \n",
       "1                                                  NaN  2017-06-04 02:17:25  \n",
       "2                                                  NaN  2018-06-10 18:16:29  \n",
       "3    Fuck all religion. Fuck Hindusim, fuck Islam, ...  2020-02-26 19:40:49  \n",
       "4                                                  NaN  2019-12-24 16:40:46  \n",
       "..                                                 ...                  ...  \n",
       "495                                                NaN  2020-03-17 15:46:04  \n",
       "496                                                NaN  2017-10-17 23:04:21  \n",
       "497                                                NaN  2018-03-23 15:37:34  \n",
       "498                                                NaN  2019-12-08 18:37:05  \n",
       "499                                                NaN  2019-01-29 01:15:53  \n",
       "\n",
       "[500 rows x 7 columns]>"
      ]
     },
     "execution_count": 124,
     "metadata": {},
     "output_type": "execute_result"
    }
   ],
   "source": [
    "df.count"
   ]
  },
  {
   "cell_type": "code",
   "execution_count": 125,
   "metadata": {},
   "outputs": [],
   "source": [
    "# Dropping the duplicates \n"
   ]
  },
  {
   "cell_type": "code",
   "execution_count": 126,
   "metadata": {},
   "outputs": [
    {
     "data": {
      "text/html": [
       "<div>\n",
       "<style scoped>\n",
       "    .dataframe tbody tr th:only-of-type {\n",
       "        vertical-align: middle;\n",
       "    }\n",
       "\n",
       "    .dataframe tbody tr th {\n",
       "        vertical-align: top;\n",
       "    }\n",
       "\n",
       "    .dataframe thead th {\n",
       "        text-align: right;\n",
       "    }\n",
       "</style>\n",
       "<table border=\"1\" class=\"dataframe\">\n",
       "  <thead>\n",
       "    <tr style=\"text-align: right;\">\n",
       "      <th></th>\n",
       "      <th>Title</th>\n",
       "      <th>Score</th>\n",
       "      <th>ID</th>\n",
       "      <th>comms_num</th>\n",
       "      <th>created</th>\n",
       "      <th>body</th>\n",
       "      <th>Timestamp</th>\n",
       "    </tr>\n",
       "  </thead>\n",
       "  <tbody>\n",
       "    <tr>\n",
       "      <th>0</th>\n",
       "      <td>Will donate thrice the number of upvotes (amou...</td>\n",
       "      <td>19708</td>\n",
       "      <td>981o7s</td>\n",
       "      <td>836</td>\n",
       "      <td>1.534536e+09</td>\n",
       "      <td>&gt;**Note**: If you want to know what this is al...</td>\n",
       "      <td>2018-08-18 01:32:17</td>\n",
       "    </tr>\n",
       "    <tr>\n",
       "      <th>1</th>\n",
       "      <td>Indian reply to NYtimes cartoon on Paris clima...</td>\n",
       "      <td>18236</td>\n",
       "      <td>6f10op</td>\n",
       "      <td>1492</td>\n",
       "      <td>1.496523e+09</td>\n",
       "      <td>NaN</td>\n",
       "      <td>2017-06-04 02:17:25</td>\n",
       "    </tr>\n",
       "    <tr>\n",
       "      <th>2</th>\n",
       "      <td>The essence of the Indian soap opera, distille...</td>\n",
       "      <td>18202</td>\n",
       "      <td>8pymkp</td>\n",
       "      <td>949</td>\n",
       "      <td>1.528635e+09</td>\n",
       "      <td>NaN</td>\n",
       "      <td>2018-06-10 18:16:29</td>\n",
       "    </tr>\n",
       "    <tr>\n",
       "      <th>3</th>\n",
       "      <td>Fuck all Religion</td>\n",
       "      <td>17832</td>\n",
       "      <td>f9outu</td>\n",
       "      <td>4206</td>\n",
       "      <td>1.582726e+09</td>\n",
       "      <td>Fuck all religion. Fuck Hindusim, fuck Islam, ...</td>\n",
       "      <td>2020-02-26 19:40:49</td>\n",
       "    </tr>\n",
       "    <tr>\n",
       "      <th>4</th>\n",
       "      <td>German exchange Student at IIT Madras is being...</td>\n",
       "      <td>11692</td>\n",
       "      <td>eev8g5</td>\n",
       "      <td>501</td>\n",
       "      <td>1.577186e+09</td>\n",
       "      <td>NaN</td>\n",
       "      <td>2019-12-24 16:40:46</td>\n",
       "    </tr>\n",
       "  </tbody>\n",
       "</table>\n",
       "</div>"
      ],
      "text/plain": [
       "                                               Title  Score      ID  \\\n",
       "0  Will donate thrice the number of upvotes (amou...  19708  981o7s   \n",
       "1  Indian reply to NYtimes cartoon on Paris clima...  18236  6f10op   \n",
       "2  The essence of the Indian soap opera, distille...  18202  8pymkp   \n",
       "3                                  Fuck all Religion  17832  f9outu   \n",
       "4  German exchange Student at IIT Madras is being...  11692  eev8g5   \n",
       "\n",
       "   comms_num       created                                               body  \\\n",
       "0        836  1.534536e+09  >**Note**: If you want to know what this is al...   \n",
       "1       1492  1.496523e+09                                                NaN   \n",
       "2        949  1.528635e+09                                                NaN   \n",
       "3       4206  1.582726e+09  Fuck all religion. Fuck Hindusim, fuck Islam, ...   \n",
       "4        501  1.577186e+09                                                NaN   \n",
       "\n",
       "             Timestamp  \n",
       "0  2018-08-18 01:32:17  \n",
       "1  2017-06-04 02:17:25  \n",
       "2  2018-06-10 18:16:29  \n",
       "3  2020-02-26 19:40:49  \n",
       "4  2019-12-24 16:40:46  "
      ]
     },
     "execution_count": 126,
     "metadata": {},
     "output_type": "execute_result"
    }
   ],
   "source": [
    "df = df.drop_duplicates()\n",
    "df.head(5)"
   ]
  },
  {
   "cell_type": "code",
   "execution_count": 127,
   "metadata": {},
   "outputs": [
    {
     "data": {
      "text/plain": [
       "Title        500\n",
       "Score        500\n",
       "ID           500\n",
       "comms_num    500\n",
       "created      500\n",
       "body          32\n",
       "Timestamp    500\n",
       "dtype: int64"
      ]
     },
     "execution_count": 127,
     "metadata": {},
     "output_type": "execute_result"
    }
   ],
   "source": [
    "df.count()\n"
   ]
  },
  {
   "cell_type": "code",
   "execution_count": 128,
   "metadata": {},
   "outputs": [],
   "source": [
    "# Dropping the missing or null values.\n"
   ]
  },
  {
   "cell_type": "code",
   "execution_count": 129,
   "metadata": {},
   "outputs": [
    {
     "name": "stdout",
     "output_type": "stream",
     "text": [
      "Title          0\n",
      "Score          0\n",
      "ID             0\n",
      "comms_num      0\n",
      "created        0\n",
      "body         468\n",
      "Timestamp      0\n",
      "dtype: int64\n"
     ]
    }
   ],
   "source": [
    "# Finding the null values.\n",
    "\n",
    "print(df.isnull().sum())\n"
   ]
  },
  {
   "cell_type": "code",
   "execution_count": 130,
   "metadata": {},
   "outputs": [
    {
     "data": {
      "text/plain": [
       "Title        32\n",
       "Score        32\n",
       "ID           32\n",
       "comms_num    32\n",
       "created      32\n",
       "body         32\n",
       "Timestamp    32\n",
       "dtype: int64"
      ]
     },
     "execution_count": 130,
     "metadata": {},
     "output_type": "execute_result"
    }
   ],
   "source": [
    "# Dropping the missing values.\n",
    "\n",
    "df = df.dropna() \n",
    "df.count()"
   ]
  },
  {
   "cell_type": "code",
   "execution_count": 131,
   "metadata": {},
   "outputs": [
    {
     "name": "stdout",
     "output_type": "stream",
     "text": [
      "Title        0\n",
      "Score        0\n",
      "ID           0\n",
      "comms_num    0\n",
      "created      0\n",
      "body         0\n",
      "Timestamp    0\n",
      "dtype: int64\n"
     ]
    }
   ],
   "source": [
    "# After dropping the values\n",
    "print(df.isnull().sum()) "
   ]
  },
  {
   "cell_type": "code",
   "execution_count": 146,
   "metadata": {},
   "outputs": [
    {
     "data": {
      "text/plain": [
       "Title        26\n",
       "Score        26\n",
       "ID           26\n",
       "comms_num    26\n",
       "created      26\n",
       "body         26\n",
       "Timestamp    26\n",
       "dtype: int64"
      ]
     },
     "execution_count": 146,
     "metadata": {},
     "output_type": "execute_result"
    }
   ],
   "source": [
    "df.count()"
   ]
  },
  {
   "cell_type": "code",
   "execution_count": 132,
   "metadata": {},
   "outputs": [],
   "source": [
    "# Detecting Outliers\n",
    "# An outlier is a point or set of points that are different from other points. Sometimes they can be very high or very low."
   ]
  },
  {
   "cell_type": "code",
   "execution_count": 59,
   "metadata": {},
   "outputs": [],
   "source": [
    "# IQR SCORE TECHNIQUE"
   ]
  },
  {
   "cell_type": "code",
   "execution_count": 62,
   "metadata": {},
   "outputs": [
    {
     "data": {
      "text/plain": [
       "<matplotlib.axes._subplots.AxesSubplot at 0x7f245dc6b9e8>"
      ]
     },
     "execution_count": 62,
     "metadata": {},
     "output_type": "execute_result"
    },
    {
     "data": {
      "image/png": "[encoded data removed]",
      "text/plain": [
       "<Figure size 432x288 with 1 Axes>"
      ]
     },
     "metadata": {},
     "output_type": "display_data"
    }
   ],
   "source": [
    "sns.boxplot(x=df['Score'])\n"
   ]
  },
  {
   "cell_type": "code",
   "execution_count": 133,
   "metadata": {},
   "outputs": [
    {
     "data": {
      "text/plain": [
       "<matplotlib.axes._subplots.AxesSubplot at 0x7f245caefb00>"
      ]
     },
     "execution_count": 133,
     "metadata": {},
     "output_type": "execute_result"
    },
    {
     "data": {
      "image/png": "[encoded data removed]",
      "text/plain": [
       "<Figure size 432x288 with 1 Axes>"
      ]
     },
     "metadata": {},
     "output_type": "display_data"
    }
   ],
   "source": [
    "sns.boxplot(x=df['comms_num'])"
   ]
  },
  {
   "cell_type": "code",
   "execution_count": 135,
   "metadata": {},
   "outputs": [
    {
     "data": {
      "text/plain": [
       "<matplotlib.axes._subplots.AxesSubplot at 0x7f245cb2ae80>"
      ]
     },
     "execution_count": 135,
     "metadata": {},
     "output_type": "execute_result"
    },
    {
     "data": {
      "image/png": "[encoded data removed]",
      "text/plain": [
       "<Figure size 432x288 with 1 Axes>"
      ]
     },
     "metadata": {},
     "output_type": "display_data"
    }
   ],
   "source": [
    "sns.boxplot(x=df['created'])"
   ]
  },
  {
   "cell_type": "code",
   "execution_count": 136,
   "metadata": {},
   "outputs": [
    {
     "name": "stdout",
     "output_type": "stream",
     "text": [
      "Score            2036.75\n",
      "comms_num         420.25\n",
      "created      25199218.75\n",
      "dtype: float64\n"
     ]
    }
   ],
   "source": [
    "Q1 = df.quantile(0.25)\n",
    "Q3 = df.quantile(0.75)\n",
    "IQR = Q3 - Q1\n",
    "print(IQR)"
   ]
  },
  {
   "cell_type": "code",
   "execution_count": 137,
   "metadata": {},
   "outputs": [
    {
     "data": {
      "text/plain": [
       "(26, 7)"
      ]
     },
     "execution_count": 137,
     "metadata": {},
     "output_type": "execute_result"
    }
   ],
   "source": [
    "df = df[~((df < (Q1-1.5 * IQR)) |(df > (Q3 + 1.5 * IQR))).any(axis=1)]\n",
    "df.shape"
   ]
  },
  {
   "cell_type": "code",
   "execution_count": 138,
   "metadata": {},
   "outputs": [],
   "source": [
    "# HISTOGRAM"
   ]
  },
  {
   "cell_type": "code",
   "execution_count": 139,
   "metadata": {},
   "outputs": [],
   "source": [
    "# PLOTTING A HISTOGRAM"
   ]
  },
  {
   "cell_type": "code",
   "execution_count": 156,
   "metadata": {},
   "outputs": [
    {
     "data": {
      "text/plain": [
       "<matplotlib.axes._subplots.AxesSubplot at 0x7f245d20ca20>"
      ]
     },
     "execution_count": 156,
     "metadata": {},
     "output_type": "execute_result"
    },
    {
     "data": {
      "image/png": "[encoded data removed]",
      "text/plain": [
       "<Figure size 432x288 with 1 Axes>"
      ]
     },
     "metadata": {},
     "output_type": "display_data"
    }
   ],
   "source": [
    "\n",
    "sns.distplot(df['Score'],bins=25)\n",
    "\n",
    "\n"
   ]
  },
  {
   "cell_type": "code",
   "execution_count": null,
   "metadata": {},
   "outputs": [],
   "source": [
    "# HEAT MAPS"
   ]
  },
  {
   "cell_type": "code",
   "execution_count": 157,
   "metadata": {},
   "outputs": [
    {
     "data": {
      "text/html": [
       "<div>\n",
       "<style scoped>\n",
       "    .dataframe tbody tr th:only-of-type {\n",
       "        vertical-align: middle;\n",
       "    }\n",
       "\n",
       "    .dataframe tbody tr th {\n",
       "        vertical-align: top;\n",
       "    }\n",
       "\n",
       "    .dataframe thead th {\n",
       "        text-align: right;\n",
       "    }\n",
       "</style>\n",
       "<table border=\"1\" class=\"dataframe\">\n",
       "  <thead>\n",
       "    <tr style=\"text-align: right;\">\n",
       "      <th></th>\n",
       "      <th>Score</th>\n",
       "      <th>comms_num</th>\n",
       "      <th>created</th>\n",
       "    </tr>\n",
       "  </thead>\n",
       "  <tbody>\n",
       "    <tr>\n",
       "      <th>Score</th>\n",
       "      <td>1.000000</td>\n",
       "      <td>0.346178</td>\n",
       "      <td>-0.170883</td>\n",
       "    </tr>\n",
       "    <tr>\n",
       "      <th>comms_num</th>\n",
       "      <td>0.346178</td>\n",
       "      <td>1.000000</td>\n",
       "      <td>-0.186546</td>\n",
       "    </tr>\n",
       "    <tr>\n",
       "      <th>created</th>\n",
       "      <td>-0.170883</td>\n",
       "      <td>-0.186546</td>\n",
       "      <td>1.000000</td>\n",
       "    </tr>\n",
       "  </tbody>\n",
       "</table>\n",
       "</div>"
      ],
      "text/plain": [
       "              Score  comms_num   created\n",
       "Score      1.000000   0.346178 -0.170883\n",
       "comms_num  0.346178   1.000000 -0.186546\n",
       "created   -0.170883  -0.186546  1.000000"
      ]
     },
     "execution_count": 157,
     "metadata": {},
     "output_type": "execute_result"
    },
    {
     "data": {
      "image/png": "[encoded data removed]",
      "text/plain": [
       "<Figure size 1440x720 with 2 Axes>"
      ]
     },
     "metadata": {},
     "output_type": "display_data"
    }
   ],
   "source": [
    "# Finding the relations between the variables.\n",
    "plt.figure(figsize=(20,10))\n",
    "c= df.corr()\n",
    "sns.heatmap(c,cmap=\"BrBG\",annot=True)\n",
    "c"
   ]
  },
  {
   "cell_type": "code",
   "execution_count": 158,
   "metadata": {},
   "outputs": [],
   "source": [
    "# SCATTER PLOT"
   ]
  },
  {
   "cell_type": "code",
   "execution_count": null,
   "metadata": {},
   "outputs": [],
   "source": []
  },
  {
   "cell_type": "code",
   "execution_count": null,
   "metadata": {},
   "outputs": [],
   "source": []
  }
 ],
 "metadata": {
  "kernelspec": {
   "display_name": "Python 3",
   "language": "python",
   "name": "python3"
  },
  "language_info": {
   "codemirror_mode": {
    "name": "ipython",
    "version": 3
   },
   "file_extension": ".py",
   "mimetype": "text/x-python",
   "name": "python",
   "nbconvert_exporter": "python",
   "pygments_lexer": "ipython3",
   "version": "3.6.9"
  }
 },
 "nbformat": 4,
 "nbformat_minor": 4
}
