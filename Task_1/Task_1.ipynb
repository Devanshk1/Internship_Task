import praw
import pandas as pd
import datetime as dt


# Getting Reddit and subreddit instances
# PRAW stands for Python Reddit API Wrapper, so it makes it very easy for us to access Reddit data. 
# First we connect to Reddit by calling the praw.Reddit function and storing it in a variable. 
# rom that, we use the same logic to get to the subreddit we want and call the .subreddit instance from reddit and pass it the name of the subreddit we want to access.
# It can be found after “r/” in the subreddit’s URL. I’m going to use r/Nootropics, one of the subreddits we used in the story.



reddit = praw.Reddit(client_id='rg_neOdVcJ_hkA', \
                     client_secret='jx5ec1kpWnlrGgOvmwM7l02n6zA', \
                     user_agent='Project_khanna', \
                     username='dkhanna123', \
                     password='Devansh@123')

subreddit = reddit.subreddit('india');


# Fetching only the the most up-voted topics:



top_subreddit = subreddit.top()


top_subreddit = subreddit.top(limit=500)


# Parsing and downloading the data


for submission in subreddit.top(limit=1):
    print(submission.title, submission.id)

topics_dict = { "title":[], \
                "score":[], \
                "id":[], "url":[],  
                "comms_num": [], \
                "created": [], \
                "body":[]}

# iterating through our top_subreddit object and appending the information to our dictionary.

for submission in top_subreddit:
    topics_dict["title"].append(submission.title)
    topics_dict["score"].append(submission.score)
    topics_dict["id"].append(submission.id)
    topics_dict["url"].append(submission.url)
    topics_dict["comms_num"].append(submission.num_comments)
    topics_dict["created"].append(submission.created)
    topics_dict["body"].append(submission.selftext)

topics_data = pd.DataFrame(topics_dict)


def get_date(created):
    return dt.datetime.fromtimestamp(created)

_timestamp = topics_data["created"].apply(get_date)


topics_data = topics_data.assign(timestamp = _timestamp)


topics_data.to_csv('task1.csv', index=False) 


